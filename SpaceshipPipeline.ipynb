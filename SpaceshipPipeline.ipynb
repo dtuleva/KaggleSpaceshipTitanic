{
 "cells": [
  {
   "cell_type": "code",
   "execution_count": 1,
   "id": "93730f03-5e26-4934-adb3-3e4c559b2908",
   "metadata": {},
   "outputs": [],
   "source": [
    "%matplotlib inline"
   ]
  },
  {
   "cell_type": "code",
   "execution_count": 2,
   "id": "9d154052-3af7-4109-a993-e7dae7ab8f23",
   "metadata": {},
   "outputs": [],
   "source": [
    "import numpy as np\n",
    "import pandas as pd\n",
    "import matplotlib.pyplot as plt\n",
    "\n",
    "from sklearn.model_selection import train_test_split, GridSearchCV\n",
    "from sklearn.compose import ColumnTransformer, make_column_transformer\n",
    "from sklearn.pipeline import Pipeline\n",
    "from sklearn.preprocessing import MinMaxScaler, OneHotEncoder\n",
    "from sklearn.impute import SimpleImputer\n",
    "from sklearn.svm import LinearSVC\n",
    "\n",
    "from sklearn.preprocessing import FunctionTransformer"
   ]
  },
  {
   "cell_type": "markdown",
   "id": "5f88c17e-db32-41b1-abb7-43f679012be0",
   "metadata": {},
   "source": [
    "# Spaceship Titanic\n",
    "### pipeline"
   ]
  },
  {
   "cell_type": "code",
   "execution_count": 3,
   "id": "2c356efc-7dc4-4bfb-ae64-2ed33084cf5c",
   "metadata": {},
   "outputs": [],
   "source": [
    "spaceship_data_raw = pd.read_csv(\"data/train.csv\")"
   ]
  },
  {
   "cell_type": "code",
   "execution_count": 4,
   "id": "201e7845-1417-4c5e-b91e-b014d8b1a1b0",
   "metadata": {},
   "outputs": [
    {
     "data": {
      "text/html": [
       "<div>\n",
       "<style scoped>\n",
       "    .dataframe tbody tr th:only-of-type {\n",
       "        vertical-align: middle;\n",
       "    }\n",
       "\n",
       "    .dataframe tbody tr th {\n",
       "        vertical-align: top;\n",
       "    }\n",
       "\n",
       "    .dataframe thead th {\n",
       "        text-align: right;\n",
       "    }\n",
       "</style>\n",
       "<table border=\"1\" class=\"dataframe\">\n",
       "  <thead>\n",
       "    <tr style=\"text-align: right;\">\n",
       "      <th></th>\n",
       "      <th>PassengerId</th>\n",
       "      <th>HomePlanet</th>\n",
       "      <th>CryoSleep</th>\n",
       "      <th>Cabin</th>\n",
       "      <th>Destination</th>\n",
       "      <th>Age</th>\n",
       "      <th>VIP</th>\n",
       "      <th>RoomService</th>\n",
       "      <th>FoodCourt</th>\n",
       "      <th>ShoppingMall</th>\n",
       "      <th>Spa</th>\n",
       "      <th>VRDeck</th>\n",
       "      <th>Name</th>\n",
       "      <th>Transported</th>\n",
       "    </tr>\n",
       "  </thead>\n",
       "  <tbody>\n",
       "    <tr>\n",
       "      <th>0</th>\n",
       "      <td>0001_01</td>\n",
       "      <td>Europa</td>\n",
       "      <td>False</td>\n",
       "      <td>B/0/P</td>\n",
       "      <td>TRAPPIST-1e</td>\n",
       "      <td>39.0</td>\n",
       "      <td>False</td>\n",
       "      <td>0.0</td>\n",
       "      <td>0.0</td>\n",
       "      <td>0.0</td>\n",
       "      <td>0.0</td>\n",
       "      <td>0.0</td>\n",
       "      <td>Maham Ofracculy</td>\n",
       "      <td>False</td>\n",
       "    </tr>\n",
       "    <tr>\n",
       "      <th>1</th>\n",
       "      <td>0002_01</td>\n",
       "      <td>Earth</td>\n",
       "      <td>False</td>\n",
       "      <td>F/0/S</td>\n",
       "      <td>TRAPPIST-1e</td>\n",
       "      <td>24.0</td>\n",
       "      <td>False</td>\n",
       "      <td>109.0</td>\n",
       "      <td>9.0</td>\n",
       "      <td>25.0</td>\n",
       "      <td>549.0</td>\n",
       "      <td>44.0</td>\n",
       "      <td>Juanna Vines</td>\n",
       "      <td>True</td>\n",
       "    </tr>\n",
       "    <tr>\n",
       "      <th>2</th>\n",
       "      <td>0003_01</td>\n",
       "      <td>Europa</td>\n",
       "      <td>False</td>\n",
       "      <td>A/0/S</td>\n",
       "      <td>TRAPPIST-1e</td>\n",
       "      <td>58.0</td>\n",
       "      <td>True</td>\n",
       "      <td>43.0</td>\n",
       "      <td>3576.0</td>\n",
       "      <td>0.0</td>\n",
       "      <td>6715.0</td>\n",
       "      <td>49.0</td>\n",
       "      <td>Altark Susent</td>\n",
       "      <td>False</td>\n",
       "    </tr>\n",
       "    <tr>\n",
       "      <th>3</th>\n",
       "      <td>0003_02</td>\n",
       "      <td>Europa</td>\n",
       "      <td>False</td>\n",
       "      <td>A/0/S</td>\n",
       "      <td>TRAPPIST-1e</td>\n",
       "      <td>33.0</td>\n",
       "      <td>False</td>\n",
       "      <td>0.0</td>\n",
       "      <td>1283.0</td>\n",
       "      <td>371.0</td>\n",
       "      <td>3329.0</td>\n",
       "      <td>193.0</td>\n",
       "      <td>Solam Susent</td>\n",
       "      <td>False</td>\n",
       "    </tr>\n",
       "    <tr>\n",
       "      <th>4</th>\n",
       "      <td>0004_01</td>\n",
       "      <td>Earth</td>\n",
       "      <td>False</td>\n",
       "      <td>F/1/S</td>\n",
       "      <td>TRAPPIST-1e</td>\n",
       "      <td>16.0</td>\n",
       "      <td>False</td>\n",
       "      <td>303.0</td>\n",
       "      <td>70.0</td>\n",
       "      <td>151.0</td>\n",
       "      <td>565.0</td>\n",
       "      <td>2.0</td>\n",
       "      <td>Willy Santantines</td>\n",
       "      <td>True</td>\n",
       "    </tr>\n",
       "    <tr>\n",
       "      <th>...</th>\n",
       "      <td>...</td>\n",
       "      <td>...</td>\n",
       "      <td>...</td>\n",
       "      <td>...</td>\n",
       "      <td>...</td>\n",
       "      <td>...</td>\n",
       "      <td>...</td>\n",
       "      <td>...</td>\n",
       "      <td>...</td>\n",
       "      <td>...</td>\n",
       "      <td>...</td>\n",
       "      <td>...</td>\n",
       "      <td>...</td>\n",
       "      <td>...</td>\n",
       "    </tr>\n",
       "    <tr>\n",
       "      <th>8688</th>\n",
       "      <td>9276_01</td>\n",
       "      <td>Europa</td>\n",
       "      <td>False</td>\n",
       "      <td>A/98/P</td>\n",
       "      <td>55 Cancri e</td>\n",
       "      <td>41.0</td>\n",
       "      <td>True</td>\n",
       "      <td>0.0</td>\n",
       "      <td>6819.0</td>\n",
       "      <td>0.0</td>\n",
       "      <td>1643.0</td>\n",
       "      <td>74.0</td>\n",
       "      <td>Gravior Noxnuther</td>\n",
       "      <td>False</td>\n",
       "    </tr>\n",
       "    <tr>\n",
       "      <th>8689</th>\n",
       "      <td>9278_01</td>\n",
       "      <td>Earth</td>\n",
       "      <td>True</td>\n",
       "      <td>G/1499/S</td>\n",
       "      <td>PSO J318.5-22</td>\n",
       "      <td>18.0</td>\n",
       "      <td>False</td>\n",
       "      <td>0.0</td>\n",
       "      <td>0.0</td>\n",
       "      <td>0.0</td>\n",
       "      <td>0.0</td>\n",
       "      <td>0.0</td>\n",
       "      <td>Kurta Mondalley</td>\n",
       "      <td>False</td>\n",
       "    </tr>\n",
       "    <tr>\n",
       "      <th>8690</th>\n",
       "      <td>9279_01</td>\n",
       "      <td>Earth</td>\n",
       "      <td>False</td>\n",
       "      <td>G/1500/S</td>\n",
       "      <td>TRAPPIST-1e</td>\n",
       "      <td>26.0</td>\n",
       "      <td>False</td>\n",
       "      <td>0.0</td>\n",
       "      <td>0.0</td>\n",
       "      <td>1872.0</td>\n",
       "      <td>1.0</td>\n",
       "      <td>0.0</td>\n",
       "      <td>Fayey Connon</td>\n",
       "      <td>True</td>\n",
       "    </tr>\n",
       "    <tr>\n",
       "      <th>8691</th>\n",
       "      <td>9280_01</td>\n",
       "      <td>Europa</td>\n",
       "      <td>False</td>\n",
       "      <td>E/608/S</td>\n",
       "      <td>55 Cancri e</td>\n",
       "      <td>32.0</td>\n",
       "      <td>False</td>\n",
       "      <td>0.0</td>\n",
       "      <td>1049.0</td>\n",
       "      <td>0.0</td>\n",
       "      <td>353.0</td>\n",
       "      <td>3235.0</td>\n",
       "      <td>Celeon Hontichre</td>\n",
       "      <td>False</td>\n",
       "    </tr>\n",
       "    <tr>\n",
       "      <th>8692</th>\n",
       "      <td>9280_02</td>\n",
       "      <td>Europa</td>\n",
       "      <td>False</td>\n",
       "      <td>E/608/S</td>\n",
       "      <td>TRAPPIST-1e</td>\n",
       "      <td>44.0</td>\n",
       "      <td>False</td>\n",
       "      <td>126.0</td>\n",
       "      <td>4688.0</td>\n",
       "      <td>0.0</td>\n",
       "      <td>0.0</td>\n",
       "      <td>12.0</td>\n",
       "      <td>Propsh Hontichre</td>\n",
       "      <td>True</td>\n",
       "    </tr>\n",
       "  </tbody>\n",
       "</table>\n",
       "<p>8693 rows × 14 columns</p>\n",
       "</div>"
      ],
      "text/plain": [
       "     PassengerId HomePlanet CryoSleep     Cabin    Destination   Age    VIP  \\\n",
       "0        0001_01     Europa     False     B/0/P    TRAPPIST-1e  39.0  False   \n",
       "1        0002_01      Earth     False     F/0/S    TRAPPIST-1e  24.0  False   \n",
       "2        0003_01     Europa     False     A/0/S    TRAPPIST-1e  58.0   True   \n",
       "3        0003_02     Europa     False     A/0/S    TRAPPIST-1e  33.0  False   \n",
       "4        0004_01      Earth     False     F/1/S    TRAPPIST-1e  16.0  False   \n",
       "...          ...        ...       ...       ...            ...   ...    ...   \n",
       "8688     9276_01     Europa     False    A/98/P    55 Cancri e  41.0   True   \n",
       "8689     9278_01      Earth      True  G/1499/S  PSO J318.5-22  18.0  False   \n",
       "8690     9279_01      Earth     False  G/1500/S    TRAPPIST-1e  26.0  False   \n",
       "8691     9280_01     Europa     False   E/608/S    55 Cancri e  32.0  False   \n",
       "8692     9280_02     Europa     False   E/608/S    TRAPPIST-1e  44.0  False   \n",
       "\n",
       "      RoomService  FoodCourt  ShoppingMall     Spa  VRDeck               Name  \\\n",
       "0             0.0        0.0           0.0     0.0     0.0    Maham Ofracculy   \n",
       "1           109.0        9.0          25.0   549.0    44.0       Juanna Vines   \n",
       "2            43.0     3576.0           0.0  6715.0    49.0      Altark Susent   \n",
       "3             0.0     1283.0         371.0  3329.0   193.0       Solam Susent   \n",
       "4           303.0       70.0         151.0   565.0     2.0  Willy Santantines   \n",
       "...           ...        ...           ...     ...     ...                ...   \n",
       "8688          0.0     6819.0           0.0  1643.0    74.0  Gravior Noxnuther   \n",
       "8689          0.0        0.0           0.0     0.0     0.0    Kurta Mondalley   \n",
       "8690          0.0        0.0        1872.0     1.0     0.0       Fayey Connon   \n",
       "8691          0.0     1049.0           0.0   353.0  3235.0   Celeon Hontichre   \n",
       "8692        126.0     4688.0           0.0     0.0    12.0   Propsh Hontichre   \n",
       "\n",
       "      Transported  \n",
       "0           False  \n",
       "1            True  \n",
       "2           False  \n",
       "3           False  \n",
       "4            True  \n",
       "...           ...  \n",
       "8688        False  \n",
       "8689        False  \n",
       "8690         True  \n",
       "8691        False  \n",
       "8692         True  \n",
       "\n",
       "[8693 rows x 14 columns]"
      ]
     },
     "execution_count": 4,
     "metadata": {},
     "output_type": "execute_result"
    }
   ],
   "source": [
    "spaceship_data_raw"
   ]
  },
  {
   "cell_type": "code",
   "execution_count": 5,
   "id": "aa38e379-7622-41b8-9813-27ad3ba7a4aa",
   "metadata": {},
   "outputs": [
    {
     "data": {
      "text/plain": [
       "PassengerId       0\n",
       "HomePlanet      201\n",
       "CryoSleep       217\n",
       "Cabin           199\n",
       "Destination     182\n",
       "Age             179\n",
       "VIP             203\n",
       "RoomService     181\n",
       "FoodCourt       183\n",
       "ShoppingMall    208\n",
       "Spa             183\n",
       "VRDeck          188\n",
       "Name            200\n",
       "Transported       0\n",
       "dtype: int64"
      ]
     },
     "execution_count": 5,
     "metadata": {},
     "output_type": "execute_result"
    }
   ],
   "source": [
    "spaceship_data_raw.isna().sum()"
   ]
  },
  {
   "cell_type": "code",
   "execution_count": 6,
   "id": "7ca12d30-5ea2-4d4c-bde1-02920a78f50b",
   "metadata": {},
   "outputs": [
    {
     "data": {
      "text/plain": [
       "['PassengerId',\n",
       " 'HomePlanet',\n",
       " 'CryoSleep',\n",
       " 'Cabin',\n",
       " 'Destination',\n",
       " 'Age',\n",
       " 'VIP',\n",
       " 'RoomService',\n",
       " 'FoodCourt',\n",
       " 'ShoppingMall',\n",
       " 'Spa',\n",
       " 'VRDeck',\n",
       " 'Name',\n",
       " 'Transported']"
      ]
     },
     "execution_count": 6,
     "metadata": {},
     "output_type": "execute_result"
    }
   ],
   "source": [
    "spaceship_data_raw.columns.tolist()"
   ]
  },
  {
   "cell_type": "code",
   "execution_count": 7,
   "id": "c7ca8231-3347-49f1-a3ab-f4f6f65852a8",
   "metadata": {},
   "outputs": [],
   "source": [
    "passenger_features = spaceship_data_raw.drop(columns=\"Transported\")"
   ]
  },
  {
   "cell_type": "code",
   "execution_count": 8,
   "id": "0e0626a5-c061-4a4f-b752-572dcb120d74",
   "metadata": {},
   "outputs": [],
   "source": [
    "passenger_labels = spaceship_data_raw.Transported"
   ]
  },
  {
   "cell_type": "code",
   "execution_count": 9,
   "id": "71a122e9-5af1-4b55-b08f-ef4667367f6c",
   "metadata": {},
   "outputs": [],
   "source": [
    "passenger_features_train, passenger_features_val, passenger_labels_train, passenger_labels_val = train_test_split(\n",
    "    passenger_features, passenger_labels, test_size = 1000, random_state = 42\n",
    ")"
   ]
  },
  {
   "cell_type": "code",
   "execution_count": 10,
   "id": "f8f064a7-acd1-4ada-bbab-be50ff1ae179",
   "metadata": {},
   "outputs": [
    {
     "data": {
      "text/plain": [
       "((7693, 13), (1000, 13), (7693,), (1000,))"
      ]
     },
     "execution_count": 10,
     "metadata": {},
     "output_type": "execute_result"
    }
   ],
   "source": [
    "passenger_features_train.shape, passenger_features_val.shape, passenger_labels_train.shape, passenger_labels_val.shape"
   ]
  },
  {
   "cell_type": "code",
   "execution_count": 45,
   "id": "19d22a64-c1dc-4968-97f6-9f8489ecfa05",
   "metadata": {},
   "outputs": [],
   "source": [
    "def split_column(df):\n",
    "    df[[\"Cabin\", \"num\", \"site\"]]= df[\"Cabin\"].str.split('/',expand=True)\n",
    "    return df\n",
    "\n",
    "split_cabin_func = FunctionTransformer(split_column, validate=False)"
   ]
  },
  {
   "cell_type": "code",
   "execution_count": 46,
   "id": "fb478467-c4a0-4e87-b253-bcd653268b59",
   "metadata": {},
   "outputs": [],
   "source": [
    "all_features = [\n",
    "    'PassengerId',\n",
    "     'HomePlanet',\n",
    "     'CryoSleep',\n",
    "     'Cabin',\n",
    "     'Destination',\n",
    "     'Age',\n",
    "     'VIP',\n",
    "     'RoomService',\n",
    "     'FoodCourt',\n",
    "     'ShoppingMall',\n",
    "     'Spa',\n",
    "     'VRDeck',\n",
    "     'Name',\n",
    "]"
   ]
  },
  {
   "cell_type": "code",
   "execution_count": 68,
   "id": "b12b8886-3d49-4925-8763-2318a5882df6",
   "metadata": {},
   "outputs": [
    {
     "name": "stderr",
     "output_type": "stream",
     "text": [
      "C:\\Users\\coldy\\anaconda3\\lib\\site-packages\\sklearn\\preprocessing\\_function_transformer.py:345: UserWarning: With transform=\"pandas\", `func` should return a DataFrame to follow the set_output API.\n",
      "  warnings.warn(\n"
     ]
    },
    {
     "data": {
      "text/html": [
       "<style>#sk-container-id-5 {color: black;}#sk-container-id-5 pre{padding: 0;}#sk-container-id-5 div.sk-toggleable {background-color: white;}#sk-container-id-5 label.sk-toggleable__label {cursor: pointer;display: block;width: 100%;margin-bottom: 0;padding: 0.3em;box-sizing: border-box;text-align: center;}#sk-container-id-5 label.sk-toggleable__label-arrow:before {content: \"▸\";float: left;margin-right: 0.25em;color: #696969;}#sk-container-id-5 label.sk-toggleable__label-arrow:hover:before {color: black;}#sk-container-id-5 div.sk-estimator:hover label.sk-toggleable__label-arrow:before {color: black;}#sk-container-id-5 div.sk-toggleable__content {max-height: 0;max-width: 0;overflow: hidden;text-align: left;background-color: #f0f8ff;}#sk-container-id-5 div.sk-toggleable__content pre {margin: 0.2em;color: black;border-radius: 0.25em;background-color: #f0f8ff;}#sk-container-id-5 input.sk-toggleable__control:checked~div.sk-toggleable__content {max-height: 200px;max-width: 100%;overflow: auto;}#sk-container-id-5 input.sk-toggleable__control:checked~label.sk-toggleable__label-arrow:before {content: \"▾\";}#sk-container-id-5 div.sk-estimator input.sk-toggleable__control:checked~label.sk-toggleable__label {background-color: #d4ebff;}#sk-container-id-5 div.sk-label input.sk-toggleable__control:checked~label.sk-toggleable__label {background-color: #d4ebff;}#sk-container-id-5 input.sk-hidden--visually {border: 0;clip: rect(1px 1px 1px 1px);clip: rect(1px, 1px, 1px, 1px);height: 1px;margin: -1px;overflow: hidden;padding: 0;position: absolute;width: 1px;}#sk-container-id-5 div.sk-estimator {font-family: monospace;background-color: #f0f8ff;border: 1px dotted black;border-radius: 0.25em;box-sizing: border-box;margin-bottom: 0.5em;}#sk-container-id-5 div.sk-estimator:hover {background-color: #d4ebff;}#sk-container-id-5 div.sk-parallel-item::after {content: \"\";width: 100%;border-bottom: 1px solid gray;flex-grow: 1;}#sk-container-id-5 div.sk-label:hover label.sk-toggleable__label {background-color: #d4ebff;}#sk-container-id-5 div.sk-serial::before {content: \"\";position: absolute;border-left: 1px solid gray;box-sizing: border-box;top: 0;bottom: 0;left: 50%;z-index: 0;}#sk-container-id-5 div.sk-serial {display: flex;flex-direction: column;align-items: center;background-color: white;padding-right: 0.2em;padding-left: 0.2em;position: relative;}#sk-container-id-5 div.sk-item {position: relative;z-index: 1;}#sk-container-id-5 div.sk-parallel {display: flex;align-items: stretch;justify-content: center;background-color: white;position: relative;}#sk-container-id-5 div.sk-item::before, #sk-container-id-5 div.sk-parallel-item::before {content: \"\";position: absolute;border-left: 1px solid gray;box-sizing: border-box;top: 0;bottom: 0;left: 50%;z-index: -1;}#sk-container-id-5 div.sk-parallel-item {display: flex;flex-direction: column;z-index: 1;position: relative;background-color: white;}#sk-container-id-5 div.sk-parallel-item:first-child::after {align-self: flex-end;width: 50%;}#sk-container-id-5 div.sk-parallel-item:last-child::after {align-self: flex-start;width: 50%;}#sk-container-id-5 div.sk-parallel-item:only-child::after {width: 0;}#sk-container-id-5 div.sk-dashed-wrapped {border: 1px dashed gray;margin: 0 0.4em 0.5em 0.4em;box-sizing: border-box;padding-bottom: 0.4em;background-color: white;}#sk-container-id-5 div.sk-label label {font-family: monospace;font-weight: bold;display: inline-block;line-height: 1.2em;}#sk-container-id-5 div.sk-label-container {text-align: center;}#sk-container-id-5 div.sk-container {/* jupyter's `normalize.less` sets `[hidden] { display: none; }` but bootstrap.min.css set `[hidden] { display: none !important; }` so we also need the `!important` here to be able to override the default hidden behavior on the sphinx rendered scikit-learn.org. See: https://github.com/scikit-learn/scikit-learn/issues/21755 */display: inline-block !important;position: relative;}#sk-container-id-5 div.sk-text-repr-fallback {display: none;}</style><div id=\"sk-container-id-5\" class=\"sk-top-container\"><div class=\"sk-text-repr-fallback\"><pre>ColumnTransformer(transformers=[(&#x27;functiontransformer&#x27;,\n",
       "                                 FunctionTransformer(func=&lt;function split_column at 0x000001D3C82BA280&gt;),\n",
       "                                 [&#x27;PassengerId&#x27;, &#x27;HomePlanet&#x27;, &#x27;CryoSleep&#x27;,\n",
       "                                  &#x27;Cabin&#x27;, &#x27;Destination&#x27;, &#x27;Age&#x27;, &#x27;VIP&#x27;,\n",
       "                                  &#x27;RoomService&#x27;, &#x27;FoodCourt&#x27;, &#x27;ShoppingMall&#x27;,\n",
       "                                  &#x27;Spa&#x27;, &#x27;VRDeck&#x27;, &#x27;Name&#x27;])])</pre><b>In a Jupyter environment, please rerun this cell to show the HTML representation or trust the notebook. <br />On GitHub, the HTML representation is unable to render, please try loading this page with nbviewer.org.</b></div><div class=\"sk-container\" hidden><div class=\"sk-item sk-dashed-wrapped\"><div class=\"sk-label-container\"><div class=\"sk-label sk-toggleable\"><input class=\"sk-toggleable__control sk-hidden--visually\" id=\"sk-estimator-id-13\" type=\"checkbox\" ><label for=\"sk-estimator-id-13\" class=\"sk-toggleable__label sk-toggleable__label-arrow\">ColumnTransformer</label><div class=\"sk-toggleable__content\"><pre>ColumnTransformer(transformers=[(&#x27;functiontransformer&#x27;,\n",
       "                                 FunctionTransformer(func=&lt;function split_column at 0x000001D3C82BA280&gt;),\n",
       "                                 [&#x27;PassengerId&#x27;, &#x27;HomePlanet&#x27;, &#x27;CryoSleep&#x27;,\n",
       "                                  &#x27;Cabin&#x27;, &#x27;Destination&#x27;, &#x27;Age&#x27;, &#x27;VIP&#x27;,\n",
       "                                  &#x27;RoomService&#x27;, &#x27;FoodCourt&#x27;, &#x27;ShoppingMall&#x27;,\n",
       "                                  &#x27;Spa&#x27;, &#x27;VRDeck&#x27;, &#x27;Name&#x27;])])</pre></div></div></div><div class=\"sk-parallel\"><div class=\"sk-parallel-item\"><div class=\"sk-item\"><div class=\"sk-label-container\"><div class=\"sk-label sk-toggleable\"><input class=\"sk-toggleable__control sk-hidden--visually\" id=\"sk-estimator-id-14\" type=\"checkbox\" ><label for=\"sk-estimator-id-14\" class=\"sk-toggleable__label sk-toggleable__label-arrow\">functiontransformer</label><div class=\"sk-toggleable__content\"><pre>[&#x27;PassengerId&#x27;, &#x27;HomePlanet&#x27;, &#x27;CryoSleep&#x27;, &#x27;Cabin&#x27;, &#x27;Destination&#x27;, &#x27;Age&#x27;, &#x27;VIP&#x27;, &#x27;RoomService&#x27;, &#x27;FoodCourt&#x27;, &#x27;ShoppingMall&#x27;, &#x27;Spa&#x27;, &#x27;VRDeck&#x27;, &#x27;Name&#x27;]</pre></div></div></div><div class=\"sk-serial\"><div class=\"sk-item\"><div class=\"sk-estimator sk-toggleable\"><input class=\"sk-toggleable__control sk-hidden--visually\" id=\"sk-estimator-id-15\" type=\"checkbox\" ><label for=\"sk-estimator-id-15\" class=\"sk-toggleable__label sk-toggleable__label-arrow\">FunctionTransformer</label><div class=\"sk-toggleable__content\"><pre>FunctionTransformer(func=&lt;function split_column at 0x000001D3C82BA280&gt;)</pre></div></div></div></div></div></div></div></div></div></div>"
      ],
      "text/plain": [
       "ColumnTransformer(transformers=[('functiontransformer',\n",
       "                                 FunctionTransformer(func=<function split_column at 0x000001D3C82BA280>),\n",
       "                                 ['PassengerId', 'HomePlanet', 'CryoSleep',\n",
       "                                  'Cabin', 'Destination', 'Age', 'VIP',\n",
       "                                  'RoomService', 'FoodCourt', 'ShoppingMall',\n",
       "                                  'Spa', 'VRDeck', 'Name'])])"
      ]
     },
     "execution_count": 68,
     "metadata": {},
     "output_type": "execute_result"
    }
   ],
   "source": [
    "split_cabin = make_column_transformer(\n",
    "        (split_cabin_func, all_features)\n",
    ")\n",
    "split_cabin.fit(passenger_features_train).set_output(transform=\"pandas\")"
   ]
  },
  {
   "cell_type": "code",
   "execution_count": 87,
   "id": "68dc374c-3d48-422b-bced-2a2f5e7959d7",
   "metadata": {},
   "outputs": [],
   "source": [
    "numeric_features = [\n",
    "             'functiontransformer__Age',\n",
    "             'functiontransformer__RoomService',\n",
    "             'functiontransformer__FoodCourt',\n",
    "             'functiontransformer__ShoppingMall',\n",
    "             'functiontransformer__Spa',\n",
    "             'functiontransformer__VRDeck',\n",
    "             'functiontransformer__num',  \n",
    "         ]\n",
    "\n",
    "categorical_features = [\n",
    "             'functiontransformer__HomePlanet',\n",
    "             'functiontransformer__CryoSleep',\n",
    "             'functiontransformer__Destination',\n",
    "             'functiontransformer__VIP',\n",
    "             'functiontransformer__Cabin',\n",
    "             'functiontransformer__site'\n",
    "         ]\n"
   ]
  },
  {
   "cell_type": "code",
   "execution_count": 88,
   "id": "0e236bf0-5aa7-4360-96cf-66e4f23d91ff",
   "metadata": {},
   "outputs": [],
   "source": [
    "numeric_transformer = Pipeline(\n",
    "    steps=[(\"imputer\", SimpleImputer(strategy=\"mean\")), (\"scaler\", MinMaxScaler())]\n",
    ")\n",
    "categorical_transformer = Pipeline(\n",
    "    steps=[\n",
    "        (\"imputer\", SimpleImputer(strategy=\"most_frequent\")),\n",
    "        (\"one_hot_encoder\", OneHotEncoder(drop = \"first\")),\n",
    "\n",
    "    ]\n",
    ")"
   ]
  },
  {
   "cell_type": "code",
   "execution_count": 89,
   "id": "b67edaf7-5161-427d-8196-991331bac41a",
   "metadata": {},
   "outputs": [],
   "source": [
    "preprocessor = ColumnTransformer(\n",
    "    transformers=[\n",
    "        (\"numeric\", numeric_transformer, numeric_features),\n",
    "        (\"categorical\", categorical_transformer, categorical_features),\n",
    "    ],\n",
    "     verbose_feature_names_out=False\n",
    ")"
   ]
  },
  {
   "cell_type": "code",
   "execution_count": 90,
   "id": "e872c80b-36b5-4e9e-b482-42e69386d423",
   "metadata": {},
   "outputs": [],
   "source": [
    "#preprocessor.fit(split_cabin.transform(passenger_features_train))"
   ]
  },
  {
   "cell_type": "code",
   "execution_count": 91,
   "id": "168064f6-5046-446d-b22b-b286269637ff",
   "metadata": {},
   "outputs": [],
   "source": [
    "#preprocessor.get_feature_names_out()"
   ]
  },
  {
   "cell_type": "code",
   "execution_count": 92,
   "id": "5087ee9c-f13b-42e2-84a0-147433a780a9",
   "metadata": {},
   "outputs": [],
   "source": [
    "#len(preprocessor.get_feature_names_out())"
   ]
  },
  {
   "cell_type": "code",
   "execution_count": 113,
   "id": "3610026a-2d51-45fd-ae5d-623991f13af6",
   "metadata": {},
   "outputs": [],
   "source": [
    "pipe_lin_svm = Pipeline(\n",
    "    [\n",
    "        (\"split_cabin\", split_cabin),\n",
    "        (\"preprocess\", preprocessor),\n",
    "        (\"lin_svm\", LinearSVC(max_iter=20_000))\n",
    "    ]\n",
    ")"
   ]
  },
  {
   "cell_type": "code",
   "execution_count": 114,
   "id": "356cf8ee-d4bd-4a4e-8b8d-b43569244798",
   "metadata": {},
   "outputs": [
    {
     "name": "stderr",
     "output_type": "stream",
     "text": [
      "C:\\Users\\coldy\\anaconda3\\lib\\site-packages\\sklearn\\svm\\_classes.py:32: FutureWarning: The default value of `dual` will change from `True` to `'auto'` in 1.5. Set the value of `dual` explicitly to suppress the warning.\n",
      "  warnings.warn(\n"
     ]
    },
    {
     "data": {
      "text/html": [
       "<style>#sk-container-id-8 {color: black;}#sk-container-id-8 pre{padding: 0;}#sk-container-id-8 div.sk-toggleable {background-color: white;}#sk-container-id-8 label.sk-toggleable__label {cursor: pointer;display: block;width: 100%;margin-bottom: 0;padding: 0.3em;box-sizing: border-box;text-align: center;}#sk-container-id-8 label.sk-toggleable__label-arrow:before {content: \"▸\";float: left;margin-right: 0.25em;color: #696969;}#sk-container-id-8 label.sk-toggleable__label-arrow:hover:before {color: black;}#sk-container-id-8 div.sk-estimator:hover label.sk-toggleable__label-arrow:before {color: black;}#sk-container-id-8 div.sk-toggleable__content {max-height: 0;max-width: 0;overflow: hidden;text-align: left;background-color: #f0f8ff;}#sk-container-id-8 div.sk-toggleable__content pre {margin: 0.2em;color: black;border-radius: 0.25em;background-color: #f0f8ff;}#sk-container-id-8 input.sk-toggleable__control:checked~div.sk-toggleable__content {max-height: 200px;max-width: 100%;overflow: auto;}#sk-container-id-8 input.sk-toggleable__control:checked~label.sk-toggleable__label-arrow:before {content: \"▾\";}#sk-container-id-8 div.sk-estimator input.sk-toggleable__control:checked~label.sk-toggleable__label {background-color: #d4ebff;}#sk-container-id-8 div.sk-label input.sk-toggleable__control:checked~label.sk-toggleable__label {background-color: #d4ebff;}#sk-container-id-8 input.sk-hidden--visually {border: 0;clip: rect(1px 1px 1px 1px);clip: rect(1px, 1px, 1px, 1px);height: 1px;margin: -1px;overflow: hidden;padding: 0;position: absolute;width: 1px;}#sk-container-id-8 div.sk-estimator {font-family: monospace;background-color: #f0f8ff;border: 1px dotted black;border-radius: 0.25em;box-sizing: border-box;margin-bottom: 0.5em;}#sk-container-id-8 div.sk-estimator:hover {background-color: #d4ebff;}#sk-container-id-8 div.sk-parallel-item::after {content: \"\";width: 100%;border-bottom: 1px solid gray;flex-grow: 1;}#sk-container-id-8 div.sk-label:hover label.sk-toggleable__label {background-color: #d4ebff;}#sk-container-id-8 div.sk-serial::before {content: \"\";position: absolute;border-left: 1px solid gray;box-sizing: border-box;top: 0;bottom: 0;left: 50%;z-index: 0;}#sk-container-id-8 div.sk-serial {display: flex;flex-direction: column;align-items: center;background-color: white;padding-right: 0.2em;padding-left: 0.2em;position: relative;}#sk-container-id-8 div.sk-item {position: relative;z-index: 1;}#sk-container-id-8 div.sk-parallel {display: flex;align-items: stretch;justify-content: center;background-color: white;position: relative;}#sk-container-id-8 div.sk-item::before, #sk-container-id-8 div.sk-parallel-item::before {content: \"\";position: absolute;border-left: 1px solid gray;box-sizing: border-box;top: 0;bottom: 0;left: 50%;z-index: -1;}#sk-container-id-8 div.sk-parallel-item {display: flex;flex-direction: column;z-index: 1;position: relative;background-color: white;}#sk-container-id-8 div.sk-parallel-item:first-child::after {align-self: flex-end;width: 50%;}#sk-container-id-8 div.sk-parallel-item:last-child::after {align-self: flex-start;width: 50%;}#sk-container-id-8 div.sk-parallel-item:only-child::after {width: 0;}#sk-container-id-8 div.sk-dashed-wrapped {border: 1px dashed gray;margin: 0 0.4em 0.5em 0.4em;box-sizing: border-box;padding-bottom: 0.4em;background-color: white;}#sk-container-id-8 div.sk-label label {font-family: monospace;font-weight: bold;display: inline-block;line-height: 1.2em;}#sk-container-id-8 div.sk-label-container {text-align: center;}#sk-container-id-8 div.sk-container {/* jupyter's `normalize.less` sets `[hidden] { display: none; }` but bootstrap.min.css set `[hidden] { display: none !important; }` so we also need the `!important` here to be able to override the default hidden behavior on the sphinx rendered scikit-learn.org. See: https://github.com/scikit-learn/scikit-learn/issues/21755 */display: inline-block !important;position: relative;}#sk-container-id-8 div.sk-text-repr-fallback {display: none;}</style><div id=\"sk-container-id-8\" class=\"sk-top-container\"><div class=\"sk-text-repr-fallback\"><pre>Pipeline(steps=[(&#x27;split_cabin&#x27;,\n",
       "                 ColumnTransformer(transformers=[(&#x27;functiontransformer&#x27;,\n",
       "                                                  FunctionTransformer(func=&lt;function split_column at 0x000001D3C82BA280&gt;),\n",
       "                                                  [&#x27;PassengerId&#x27;, &#x27;HomePlanet&#x27;,\n",
       "                                                   &#x27;CryoSleep&#x27;, &#x27;Cabin&#x27;,\n",
       "                                                   &#x27;Destination&#x27;, &#x27;Age&#x27;, &#x27;VIP&#x27;,\n",
       "                                                   &#x27;RoomService&#x27;, &#x27;FoodCourt&#x27;,\n",
       "                                                   &#x27;ShoppingMall&#x27;, &#x27;Spa&#x27;,\n",
       "                                                   &#x27;VRDeck&#x27;, &#x27;Name&#x27;])])),\n",
       "                (&#x27;preprocess&#x27;,\n",
       "                 ColumnTransformer(transformers=[(&#x27;numer...\n",
       "                                                                   SimpleImputer(strategy=&#x27;most_frequent&#x27;)),\n",
       "                                                                  (&#x27;one_hot_encoder&#x27;,\n",
       "                                                                   OneHotEncoder(drop=&#x27;first&#x27;))]),\n",
       "                                                  [&#x27;functiontransformer__HomePlanet&#x27;,\n",
       "                                                   &#x27;functiontransformer__CryoSleep&#x27;,\n",
       "                                                   &#x27;functiontransformer__Destination&#x27;,\n",
       "                                                   &#x27;functiontransformer__VIP&#x27;,\n",
       "                                                   &#x27;functiontransformer__Cabin&#x27;,\n",
       "                                                   &#x27;functiontransformer__site&#x27;])],\n",
       "                                   verbose_feature_names_out=False)),\n",
       "                (&#x27;lin_svm&#x27;, LinearSVC(max_iter=20000))])</pre><b>In a Jupyter environment, please rerun this cell to show the HTML representation or trust the notebook. <br />On GitHub, the HTML representation is unable to render, please try loading this page with nbviewer.org.</b></div><div class=\"sk-container\" hidden><div class=\"sk-item sk-dashed-wrapped\"><div class=\"sk-label-container\"><div class=\"sk-label sk-toggleable\"><input class=\"sk-toggleable__control sk-hidden--visually\" id=\"sk-estimator-id-41\" type=\"checkbox\" ><label for=\"sk-estimator-id-41\" class=\"sk-toggleable__label sk-toggleable__label-arrow\">Pipeline</label><div class=\"sk-toggleable__content\"><pre>Pipeline(steps=[(&#x27;split_cabin&#x27;,\n",
       "                 ColumnTransformer(transformers=[(&#x27;functiontransformer&#x27;,\n",
       "                                                  FunctionTransformer(func=&lt;function split_column at 0x000001D3C82BA280&gt;),\n",
       "                                                  [&#x27;PassengerId&#x27;, &#x27;HomePlanet&#x27;,\n",
       "                                                   &#x27;CryoSleep&#x27;, &#x27;Cabin&#x27;,\n",
       "                                                   &#x27;Destination&#x27;, &#x27;Age&#x27;, &#x27;VIP&#x27;,\n",
       "                                                   &#x27;RoomService&#x27;, &#x27;FoodCourt&#x27;,\n",
       "                                                   &#x27;ShoppingMall&#x27;, &#x27;Spa&#x27;,\n",
       "                                                   &#x27;VRDeck&#x27;, &#x27;Name&#x27;])])),\n",
       "                (&#x27;preprocess&#x27;,\n",
       "                 ColumnTransformer(transformers=[(&#x27;numer...\n",
       "                                                                   SimpleImputer(strategy=&#x27;most_frequent&#x27;)),\n",
       "                                                                  (&#x27;one_hot_encoder&#x27;,\n",
       "                                                                   OneHotEncoder(drop=&#x27;first&#x27;))]),\n",
       "                                                  [&#x27;functiontransformer__HomePlanet&#x27;,\n",
       "                                                   &#x27;functiontransformer__CryoSleep&#x27;,\n",
       "                                                   &#x27;functiontransformer__Destination&#x27;,\n",
       "                                                   &#x27;functiontransformer__VIP&#x27;,\n",
       "                                                   &#x27;functiontransformer__Cabin&#x27;,\n",
       "                                                   &#x27;functiontransformer__site&#x27;])],\n",
       "                                   verbose_feature_names_out=False)),\n",
       "                (&#x27;lin_svm&#x27;, LinearSVC(max_iter=20000))])</pre></div></div></div><div class=\"sk-serial\"><div class=\"sk-item sk-dashed-wrapped\"><div class=\"sk-label-container\"><div class=\"sk-label sk-toggleable\"><input class=\"sk-toggleable__control sk-hidden--visually\" id=\"sk-estimator-id-42\" type=\"checkbox\" ><label for=\"sk-estimator-id-42\" class=\"sk-toggleable__label sk-toggleable__label-arrow\">split_cabin: ColumnTransformer</label><div class=\"sk-toggleable__content\"><pre>ColumnTransformer(transformers=[(&#x27;functiontransformer&#x27;,\n",
       "                                 FunctionTransformer(func=&lt;function split_column at 0x000001D3C82BA280&gt;),\n",
       "                                 [&#x27;PassengerId&#x27;, &#x27;HomePlanet&#x27;, &#x27;CryoSleep&#x27;,\n",
       "                                  &#x27;Cabin&#x27;, &#x27;Destination&#x27;, &#x27;Age&#x27;, &#x27;VIP&#x27;,\n",
       "                                  &#x27;RoomService&#x27;, &#x27;FoodCourt&#x27;, &#x27;ShoppingMall&#x27;,\n",
       "                                  &#x27;Spa&#x27;, &#x27;VRDeck&#x27;, &#x27;Name&#x27;])])</pre></div></div></div><div class=\"sk-parallel\"><div class=\"sk-parallel-item\"><div class=\"sk-item\"><div class=\"sk-label-container\"><div class=\"sk-label sk-toggleable\"><input class=\"sk-toggleable__control sk-hidden--visually\" id=\"sk-estimator-id-43\" type=\"checkbox\" ><label for=\"sk-estimator-id-43\" class=\"sk-toggleable__label sk-toggleable__label-arrow\">functiontransformer</label><div class=\"sk-toggleable__content\"><pre>[&#x27;PassengerId&#x27;, &#x27;HomePlanet&#x27;, &#x27;CryoSleep&#x27;, &#x27;Cabin&#x27;, &#x27;Destination&#x27;, &#x27;Age&#x27;, &#x27;VIP&#x27;, &#x27;RoomService&#x27;, &#x27;FoodCourt&#x27;, &#x27;ShoppingMall&#x27;, &#x27;Spa&#x27;, &#x27;VRDeck&#x27;, &#x27;Name&#x27;]</pre></div></div></div><div class=\"sk-serial\"><div class=\"sk-item\"><div class=\"sk-estimator sk-toggleable\"><input class=\"sk-toggleable__control sk-hidden--visually\" id=\"sk-estimator-id-44\" type=\"checkbox\" ><label for=\"sk-estimator-id-44\" class=\"sk-toggleable__label sk-toggleable__label-arrow\">FunctionTransformer</label><div class=\"sk-toggleable__content\"><pre>FunctionTransformer(func=&lt;function split_column at 0x000001D3C82BA280&gt;)</pre></div></div></div></div></div></div></div></div><div class=\"sk-item sk-dashed-wrapped\"><div class=\"sk-label-container\"><div class=\"sk-label sk-toggleable\"><input class=\"sk-toggleable__control sk-hidden--visually\" id=\"sk-estimator-id-45\" type=\"checkbox\" ><label for=\"sk-estimator-id-45\" class=\"sk-toggleable__label sk-toggleable__label-arrow\">preprocess: ColumnTransformer</label><div class=\"sk-toggleable__content\"><pre>ColumnTransformer(transformers=[(&#x27;numeric&#x27;,\n",
       "                                 Pipeline(steps=[(&#x27;imputer&#x27;, SimpleImputer()),\n",
       "                                                 (&#x27;scaler&#x27;, MinMaxScaler())]),\n",
       "                                 [&#x27;functiontransformer__Age&#x27;,\n",
       "                                  &#x27;functiontransformer__RoomService&#x27;,\n",
       "                                  &#x27;functiontransformer__FoodCourt&#x27;,\n",
       "                                  &#x27;functiontransformer__ShoppingMall&#x27;,\n",
       "                                  &#x27;functiontransformer__Spa&#x27;,\n",
       "                                  &#x27;functiontransformer__VRDeck&#x27;,\n",
       "                                  &#x27;functiontransformer__num&#x27;]),\n",
       "                                (&#x27;categorical&#x27;,\n",
       "                                 Pipeline(steps=[(&#x27;imputer&#x27;,\n",
       "                                                  SimpleImputer(strategy=&#x27;most_frequent&#x27;)),\n",
       "                                                 (&#x27;one_hot_encoder&#x27;,\n",
       "                                                  OneHotEncoder(drop=&#x27;first&#x27;))]),\n",
       "                                 [&#x27;functiontransformer__HomePlanet&#x27;,\n",
       "                                  &#x27;functiontransformer__CryoSleep&#x27;,\n",
       "                                  &#x27;functiontransformer__Destination&#x27;,\n",
       "                                  &#x27;functiontransformer__VIP&#x27;,\n",
       "                                  &#x27;functiontransformer__Cabin&#x27;,\n",
       "                                  &#x27;functiontransformer__site&#x27;])],\n",
       "                  verbose_feature_names_out=False)</pre></div></div></div><div class=\"sk-parallel\"><div class=\"sk-parallel-item\"><div class=\"sk-item\"><div class=\"sk-label-container\"><div class=\"sk-label sk-toggleable\"><input class=\"sk-toggleable__control sk-hidden--visually\" id=\"sk-estimator-id-46\" type=\"checkbox\" ><label for=\"sk-estimator-id-46\" class=\"sk-toggleable__label sk-toggleable__label-arrow\">numeric</label><div class=\"sk-toggleable__content\"><pre>[&#x27;functiontransformer__Age&#x27;, &#x27;functiontransformer__RoomService&#x27;, &#x27;functiontransformer__FoodCourt&#x27;, &#x27;functiontransformer__ShoppingMall&#x27;, &#x27;functiontransformer__Spa&#x27;, &#x27;functiontransformer__VRDeck&#x27;, &#x27;functiontransformer__num&#x27;]</pre></div></div></div><div class=\"sk-serial\"><div class=\"sk-item\"><div class=\"sk-serial\"><div class=\"sk-item\"><div class=\"sk-estimator sk-toggleable\"><input class=\"sk-toggleable__control sk-hidden--visually\" id=\"sk-estimator-id-47\" type=\"checkbox\" ><label for=\"sk-estimator-id-47\" class=\"sk-toggleable__label sk-toggleable__label-arrow\">SimpleImputer</label><div class=\"sk-toggleable__content\"><pre>SimpleImputer()</pre></div></div></div><div class=\"sk-item\"><div class=\"sk-estimator sk-toggleable\"><input class=\"sk-toggleable__control sk-hidden--visually\" id=\"sk-estimator-id-48\" type=\"checkbox\" ><label for=\"sk-estimator-id-48\" class=\"sk-toggleable__label sk-toggleable__label-arrow\">MinMaxScaler</label><div class=\"sk-toggleable__content\"><pre>MinMaxScaler()</pre></div></div></div></div></div></div></div></div><div class=\"sk-parallel-item\"><div class=\"sk-item\"><div class=\"sk-label-container\"><div class=\"sk-label sk-toggleable\"><input class=\"sk-toggleable__control sk-hidden--visually\" id=\"sk-estimator-id-49\" type=\"checkbox\" ><label for=\"sk-estimator-id-49\" class=\"sk-toggleable__label sk-toggleable__label-arrow\">categorical</label><div class=\"sk-toggleable__content\"><pre>[&#x27;functiontransformer__HomePlanet&#x27;, &#x27;functiontransformer__CryoSleep&#x27;, &#x27;functiontransformer__Destination&#x27;, &#x27;functiontransformer__VIP&#x27;, &#x27;functiontransformer__Cabin&#x27;, &#x27;functiontransformer__site&#x27;]</pre></div></div></div><div class=\"sk-serial\"><div class=\"sk-item\"><div class=\"sk-serial\"><div class=\"sk-item\"><div class=\"sk-estimator sk-toggleable\"><input class=\"sk-toggleable__control sk-hidden--visually\" id=\"sk-estimator-id-50\" type=\"checkbox\" ><label for=\"sk-estimator-id-50\" class=\"sk-toggleable__label sk-toggleable__label-arrow\">SimpleImputer</label><div class=\"sk-toggleable__content\"><pre>SimpleImputer(strategy=&#x27;most_frequent&#x27;)</pre></div></div></div><div class=\"sk-item\"><div class=\"sk-estimator sk-toggleable\"><input class=\"sk-toggleable__control sk-hidden--visually\" id=\"sk-estimator-id-51\" type=\"checkbox\" ><label for=\"sk-estimator-id-51\" class=\"sk-toggleable__label sk-toggleable__label-arrow\">OneHotEncoder</label><div class=\"sk-toggleable__content\"><pre>OneHotEncoder(drop=&#x27;first&#x27;)</pre></div></div></div></div></div></div></div></div></div></div><div class=\"sk-item\"><div class=\"sk-estimator sk-toggleable\"><input class=\"sk-toggleable__control sk-hidden--visually\" id=\"sk-estimator-id-52\" type=\"checkbox\" ><label for=\"sk-estimator-id-52\" class=\"sk-toggleable__label sk-toggleable__label-arrow\">LinearSVC</label><div class=\"sk-toggleable__content\"><pre>LinearSVC(max_iter=20000)</pre></div></div></div></div></div></div></div>"
      ],
      "text/plain": [
       "Pipeline(steps=[('split_cabin',\n",
       "                 ColumnTransformer(transformers=[('functiontransformer',\n",
       "                                                  FunctionTransformer(func=<function split_column at 0x000001D3C82BA280>),\n",
       "                                                  ['PassengerId', 'HomePlanet',\n",
       "                                                   'CryoSleep', 'Cabin',\n",
       "                                                   'Destination', 'Age', 'VIP',\n",
       "                                                   'RoomService', 'FoodCourt',\n",
       "                                                   'ShoppingMall', 'Spa',\n",
       "                                                   'VRDeck', 'Name'])])),\n",
       "                ('preprocess',\n",
       "                 ColumnTransformer(transformers=[('numer...\n",
       "                                                                   SimpleImputer(strategy='most_frequent')),\n",
       "                                                                  ('one_hot_encoder',\n",
       "                                                                   OneHotEncoder(drop='first'))]),\n",
       "                                                  ['functiontransformer__HomePlanet',\n",
       "                                                   'functiontransformer__CryoSleep',\n",
       "                                                   'functiontransformer__Destination',\n",
       "                                                   'functiontransformer__VIP',\n",
       "                                                   'functiontransformer__Cabin',\n",
       "                                                   'functiontransformer__site'])],\n",
       "                                   verbose_feature_names_out=False)),\n",
       "                ('lin_svm', LinearSVC(max_iter=20000))])"
      ]
     },
     "execution_count": 114,
     "metadata": {},
     "output_type": "execute_result"
    }
   ],
   "source": [
    "pipe_lin_svm.fit(passenger_features_train, passenger_labels_train)"
   ]
  },
  {
   "cell_type": "code",
   "execution_count": 115,
   "id": "ec8cdff1-5c7d-4b0c-8fba-aa4b214c4d84",
   "metadata": {},
   "outputs": [
    {
     "data": {
      "text/plain": [
       "0.7888989990900819"
      ]
     },
     "execution_count": 115,
     "metadata": {},
     "output_type": "execute_result"
    }
   ],
   "source": [
    "pipe_lin_svm.score(passenger_features_train, passenger_labels_train)"
   ]
  },
  {
   "cell_type": "code",
   "execution_count": 116,
   "id": "64f8c427-4697-496b-9082-6ab19acb9530",
   "metadata": {},
   "outputs": [
    {
     "data": {
      "text/plain": [
       "0.76"
      ]
     },
     "execution_count": 116,
     "metadata": {},
     "output_type": "execute_result"
    }
   ],
   "source": [
    "pipe_lin_svm.score(passenger_features_val, passenger_labels_val)"
   ]
  },
  {
   "cell_type": "code",
   "execution_count": 97,
   "id": "9742726e-9862-44d3-8279-497d9723cc1c",
   "metadata": {},
   "outputs": [],
   "source": [
    "grid_search = GridSearchCV(pipe_lin_svm, param_grid={\"lin_svm__C\": [1e-3, 1, 1e3, 1e6]})"
   ]
  },
  {
   "cell_type": "code",
   "execution_count": 98,
   "id": "31ff0635-e8c4-4514-a4b5-180de0ea6fad",
   "metadata": {},
   "outputs": [
    {
     "name": "stderr",
     "output_type": "stream",
     "text": [
      "C:\\Users\\coldy\\anaconda3\\lib\\site-packages\\sklearn\\svm\\_classes.py:32: FutureWarning: The default value of `dual` will change from `True` to `'auto'` in 1.5. Set the value of `dual` explicitly to suppress the warning.\n",
      "  warnings.warn(\n",
      "C:\\Users\\coldy\\anaconda3\\lib\\site-packages\\sklearn\\svm\\_classes.py:32: FutureWarning: The default value of `dual` will change from `True` to `'auto'` in 1.5. Set the value of `dual` explicitly to suppress the warning.\n",
      "  warnings.warn(\n",
      "C:\\Users\\coldy\\anaconda3\\lib\\site-packages\\sklearn\\svm\\_classes.py:32: FutureWarning: The default value of `dual` will change from `True` to `'auto'` in 1.5. Set the value of `dual` explicitly to suppress the warning.\n",
      "  warnings.warn(\n",
      "C:\\Users\\coldy\\anaconda3\\lib\\site-packages\\sklearn\\svm\\_classes.py:32: FutureWarning: The default value of `dual` will change from `True` to `'auto'` in 1.5. Set the value of `dual` explicitly to suppress the warning.\n",
      "  warnings.warn(\n",
      "C:\\Users\\coldy\\anaconda3\\lib\\site-packages\\sklearn\\svm\\_classes.py:32: FutureWarning: The default value of `dual` will change from `True` to `'auto'` in 1.5. Set the value of `dual` explicitly to suppress the warning.\n",
      "  warnings.warn(\n",
      "C:\\Users\\coldy\\anaconda3\\lib\\site-packages\\sklearn\\svm\\_classes.py:32: FutureWarning: The default value of `dual` will change from `True` to `'auto'` in 1.5. Set the value of `dual` explicitly to suppress the warning.\n",
      "  warnings.warn(\n",
      "C:\\Users\\coldy\\anaconda3\\lib\\site-packages\\sklearn\\svm\\_classes.py:32: FutureWarning: The default value of `dual` will change from `True` to `'auto'` in 1.5. Set the value of `dual` explicitly to suppress the warning.\n",
      "  warnings.warn(\n",
      "C:\\Users\\coldy\\anaconda3\\lib\\site-packages\\sklearn\\svm\\_classes.py:32: FutureWarning: The default value of `dual` will change from `True` to `'auto'` in 1.5. Set the value of `dual` explicitly to suppress the warning.\n",
      "  warnings.warn(\n",
      "C:\\Users\\coldy\\anaconda3\\lib\\site-packages\\sklearn\\svm\\_classes.py:32: FutureWarning: The default value of `dual` will change from `True` to `'auto'` in 1.5. Set the value of `dual` explicitly to suppress the warning.\n",
      "  warnings.warn(\n",
      "C:\\Users\\coldy\\anaconda3\\lib\\site-packages\\sklearn\\svm\\_classes.py:32: FutureWarning: The default value of `dual` will change from `True` to `'auto'` in 1.5. Set the value of `dual` explicitly to suppress the warning.\n",
      "  warnings.warn(\n",
      "C:\\Users\\coldy\\anaconda3\\lib\\site-packages\\sklearn\\svm\\_classes.py:32: FutureWarning: The default value of `dual` will change from `True` to `'auto'` in 1.5. Set the value of `dual` explicitly to suppress the warning.\n",
      "  warnings.warn(\n",
      "C:\\Users\\coldy\\anaconda3\\lib\\site-packages\\sklearn\\svm\\_base.py:1250: ConvergenceWarning: Liblinear failed to converge, increase the number of iterations.\n",
      "  warnings.warn(\n",
      "C:\\Users\\coldy\\anaconda3\\lib\\site-packages\\sklearn\\svm\\_classes.py:32: FutureWarning: The default value of `dual` will change from `True` to `'auto'` in 1.5. Set the value of `dual` explicitly to suppress the warning.\n",
      "  warnings.warn(\n",
      "C:\\Users\\coldy\\anaconda3\\lib\\site-packages\\sklearn\\svm\\_base.py:1250: ConvergenceWarning: Liblinear failed to converge, increase the number of iterations.\n",
      "  warnings.warn(\n",
      "C:\\Users\\coldy\\anaconda3\\lib\\site-packages\\sklearn\\svm\\_classes.py:32: FutureWarning: The default value of `dual` will change from `True` to `'auto'` in 1.5. Set the value of `dual` explicitly to suppress the warning.\n",
      "  warnings.warn(\n",
      "C:\\Users\\coldy\\anaconda3\\lib\\site-packages\\sklearn\\svm\\_base.py:1250: ConvergenceWarning: Liblinear failed to converge, increase the number of iterations.\n",
      "  warnings.warn(\n",
      "C:\\Users\\coldy\\anaconda3\\lib\\site-packages\\sklearn\\svm\\_classes.py:32: FutureWarning: The default value of `dual` will change from `True` to `'auto'` in 1.5. Set the value of `dual` explicitly to suppress the warning.\n",
      "  warnings.warn(\n",
      "C:\\Users\\coldy\\anaconda3\\lib\\site-packages\\sklearn\\svm\\_base.py:1250: ConvergenceWarning: Liblinear failed to converge, increase the number of iterations.\n",
      "  warnings.warn(\n",
      "C:\\Users\\coldy\\anaconda3\\lib\\site-packages\\sklearn\\svm\\_classes.py:32: FutureWarning: The default value of `dual` will change from `True` to `'auto'` in 1.5. Set the value of `dual` explicitly to suppress the warning.\n",
      "  warnings.warn(\n",
      "C:\\Users\\coldy\\anaconda3\\lib\\site-packages\\sklearn\\svm\\_base.py:1250: ConvergenceWarning: Liblinear failed to converge, increase the number of iterations.\n",
      "  warnings.warn(\n",
      "C:\\Users\\coldy\\anaconda3\\lib\\site-packages\\sklearn\\svm\\_classes.py:32: FutureWarning: The default value of `dual` will change from `True` to `'auto'` in 1.5. Set the value of `dual` explicitly to suppress the warning.\n",
      "  warnings.warn(\n",
      "C:\\Users\\coldy\\anaconda3\\lib\\site-packages\\sklearn\\svm\\_base.py:1250: ConvergenceWarning: Liblinear failed to converge, increase the number of iterations.\n",
      "  warnings.warn(\n",
      "C:\\Users\\coldy\\anaconda3\\lib\\site-packages\\sklearn\\svm\\_classes.py:32: FutureWarning: The default value of `dual` will change from `True` to `'auto'` in 1.5. Set the value of `dual` explicitly to suppress the warning.\n",
      "  warnings.warn(\n",
      "C:\\Users\\coldy\\anaconda3\\lib\\site-packages\\sklearn\\svm\\_base.py:1250: ConvergenceWarning: Liblinear failed to converge, increase the number of iterations.\n",
      "  warnings.warn(\n",
      "C:\\Users\\coldy\\anaconda3\\lib\\site-packages\\sklearn\\svm\\_classes.py:32: FutureWarning: The default value of `dual` will change from `True` to `'auto'` in 1.5. Set the value of `dual` explicitly to suppress the warning.\n",
      "  warnings.warn(\n",
      "C:\\Users\\coldy\\anaconda3\\lib\\site-packages\\sklearn\\svm\\_base.py:1250: ConvergenceWarning: Liblinear failed to converge, increase the number of iterations.\n",
      "  warnings.warn(\n",
      "C:\\Users\\coldy\\anaconda3\\lib\\site-packages\\sklearn\\svm\\_classes.py:32: FutureWarning: The default value of `dual` will change from `True` to `'auto'` in 1.5. Set the value of `dual` explicitly to suppress the warning.\n",
      "  warnings.warn(\n",
      "C:\\Users\\coldy\\anaconda3\\lib\\site-packages\\sklearn\\svm\\_base.py:1250: ConvergenceWarning: Liblinear failed to converge, increase the number of iterations.\n",
      "  warnings.warn(\n",
      "C:\\Users\\coldy\\anaconda3\\lib\\site-packages\\sklearn\\svm\\_classes.py:32: FutureWarning: The default value of `dual` will change from `True` to `'auto'` in 1.5. Set the value of `dual` explicitly to suppress the warning.\n",
      "  warnings.warn(\n",
      "C:\\Users\\coldy\\anaconda3\\lib\\site-packages\\sklearn\\svm\\_base.py:1250: ConvergenceWarning: Liblinear failed to converge, increase the number of iterations.\n",
      "  warnings.warn(\n",
      "C:\\Users\\coldy\\anaconda3\\lib\\site-packages\\sklearn\\svm\\_classes.py:32: FutureWarning: The default value of `dual` will change from `True` to `'auto'` in 1.5. Set the value of `dual` explicitly to suppress the warning.\n",
      "  warnings.warn(\n"
     ]
    },
    {
     "data": {
      "text/html": [
       "<style>#sk-container-id-7 {color: black;}#sk-container-id-7 pre{padding: 0;}#sk-container-id-7 div.sk-toggleable {background-color: white;}#sk-container-id-7 label.sk-toggleable__label {cursor: pointer;display: block;width: 100%;margin-bottom: 0;padding: 0.3em;box-sizing: border-box;text-align: center;}#sk-container-id-7 label.sk-toggleable__label-arrow:before {content: \"▸\";float: left;margin-right: 0.25em;color: #696969;}#sk-container-id-7 label.sk-toggleable__label-arrow:hover:before {color: black;}#sk-container-id-7 div.sk-estimator:hover label.sk-toggleable__label-arrow:before {color: black;}#sk-container-id-7 div.sk-toggleable__content {max-height: 0;max-width: 0;overflow: hidden;text-align: left;background-color: #f0f8ff;}#sk-container-id-7 div.sk-toggleable__content pre {margin: 0.2em;color: black;border-radius: 0.25em;background-color: #f0f8ff;}#sk-container-id-7 input.sk-toggleable__control:checked~div.sk-toggleable__content {max-height: 200px;max-width: 100%;overflow: auto;}#sk-container-id-7 input.sk-toggleable__control:checked~label.sk-toggleable__label-arrow:before {content: \"▾\";}#sk-container-id-7 div.sk-estimator input.sk-toggleable__control:checked~label.sk-toggleable__label {background-color: #d4ebff;}#sk-container-id-7 div.sk-label input.sk-toggleable__control:checked~label.sk-toggleable__label {background-color: #d4ebff;}#sk-container-id-7 input.sk-hidden--visually {border: 0;clip: rect(1px 1px 1px 1px);clip: rect(1px, 1px, 1px, 1px);height: 1px;margin: -1px;overflow: hidden;padding: 0;position: absolute;width: 1px;}#sk-container-id-7 div.sk-estimator {font-family: monospace;background-color: #f0f8ff;border: 1px dotted black;border-radius: 0.25em;box-sizing: border-box;margin-bottom: 0.5em;}#sk-container-id-7 div.sk-estimator:hover {background-color: #d4ebff;}#sk-container-id-7 div.sk-parallel-item::after {content: \"\";width: 100%;border-bottom: 1px solid gray;flex-grow: 1;}#sk-container-id-7 div.sk-label:hover label.sk-toggleable__label {background-color: #d4ebff;}#sk-container-id-7 div.sk-serial::before {content: \"\";position: absolute;border-left: 1px solid gray;box-sizing: border-box;top: 0;bottom: 0;left: 50%;z-index: 0;}#sk-container-id-7 div.sk-serial {display: flex;flex-direction: column;align-items: center;background-color: white;padding-right: 0.2em;padding-left: 0.2em;position: relative;}#sk-container-id-7 div.sk-item {position: relative;z-index: 1;}#sk-container-id-7 div.sk-parallel {display: flex;align-items: stretch;justify-content: center;background-color: white;position: relative;}#sk-container-id-7 div.sk-item::before, #sk-container-id-7 div.sk-parallel-item::before {content: \"\";position: absolute;border-left: 1px solid gray;box-sizing: border-box;top: 0;bottom: 0;left: 50%;z-index: -1;}#sk-container-id-7 div.sk-parallel-item {display: flex;flex-direction: column;z-index: 1;position: relative;background-color: white;}#sk-container-id-7 div.sk-parallel-item:first-child::after {align-self: flex-end;width: 50%;}#sk-container-id-7 div.sk-parallel-item:last-child::after {align-self: flex-start;width: 50%;}#sk-container-id-7 div.sk-parallel-item:only-child::after {width: 0;}#sk-container-id-7 div.sk-dashed-wrapped {border: 1px dashed gray;margin: 0 0.4em 0.5em 0.4em;box-sizing: border-box;padding-bottom: 0.4em;background-color: white;}#sk-container-id-7 div.sk-label label {font-family: monospace;font-weight: bold;display: inline-block;line-height: 1.2em;}#sk-container-id-7 div.sk-label-container {text-align: center;}#sk-container-id-7 div.sk-container {/* jupyter's `normalize.less` sets `[hidden] { display: none; }` but bootstrap.min.css set `[hidden] { display: none !important; }` so we also need the `!important` here to be able to override the default hidden behavior on the sphinx rendered scikit-learn.org. See: https://github.com/scikit-learn/scikit-learn/issues/21755 */display: inline-block !important;position: relative;}#sk-container-id-7 div.sk-text-repr-fallback {display: none;}</style><div id=\"sk-container-id-7\" class=\"sk-top-container\"><div class=\"sk-text-repr-fallback\"><pre>GridSearchCV(estimator=Pipeline(steps=[(&#x27;split_cabin&#x27;,\n",
       "                                        ColumnTransformer(transformers=[(&#x27;functiontransformer&#x27;,\n",
       "                                                                         FunctionTransformer(func=&lt;function split_column at 0x000001D3C82BA280&gt;),\n",
       "                                                                         [&#x27;PassengerId&#x27;,\n",
       "                                                                          &#x27;HomePlanet&#x27;,\n",
       "                                                                          &#x27;CryoSleep&#x27;,\n",
       "                                                                          &#x27;Cabin&#x27;,\n",
       "                                                                          &#x27;Destination&#x27;,\n",
       "                                                                          &#x27;Age&#x27;,\n",
       "                                                                          &#x27;VIP&#x27;,\n",
       "                                                                          &#x27;RoomService&#x27;,\n",
       "                                                                          &#x27;FoodCourt&#x27;,\n",
       "                                                                          &#x27;ShoppingMall&#x27;,\n",
       "                                                                          &#x27;Spa&#x27;,\n",
       "                                                                          &#x27;VRDeck&#x27;,\n",
       "                                                                          &#x27;Name&#x27;])])),\n",
       "                                       (&#x27;preprocess&#x27;,\n",
       "                                        ColumnTransforme...\n",
       "                                                                                         (&#x27;one_hot_encoder&#x27;,\n",
       "                                                                                          OneHotEncoder(drop=&#x27;first&#x27;))]),\n",
       "                                                                         [&#x27;functiontransformer__HomePlanet&#x27;,\n",
       "                                                                          &#x27;functiontransformer__CryoSleep&#x27;,\n",
       "                                                                          &#x27;functiontransformer__Destination&#x27;,\n",
       "                                                                          &#x27;functiontransformer__VIP&#x27;,\n",
       "                                                                          &#x27;functiontransformer__Cabin&#x27;,\n",
       "                                                                          &#x27;functiontransformer__site&#x27;])],\n",
       "                                                          verbose_feature_names_out=False)),\n",
       "                                       (&#x27;lin_svm&#x27;, LinearSVC(max_iter=10000))]),\n",
       "             param_grid={&#x27;lin_svm__C&#x27;: [0.001, 1, 1000.0, 1000000.0]})</pre><b>In a Jupyter environment, please rerun this cell to show the HTML representation or trust the notebook. <br />On GitHub, the HTML representation is unable to render, please try loading this page with nbviewer.org.</b></div><div class=\"sk-container\" hidden><div class=\"sk-item sk-dashed-wrapped\"><div class=\"sk-label-container\"><div class=\"sk-label sk-toggleable\"><input class=\"sk-toggleable__control sk-hidden--visually\" id=\"sk-estimator-id-28\" type=\"checkbox\" ><label for=\"sk-estimator-id-28\" class=\"sk-toggleable__label sk-toggleable__label-arrow\">GridSearchCV</label><div class=\"sk-toggleable__content\"><pre>GridSearchCV(estimator=Pipeline(steps=[(&#x27;split_cabin&#x27;,\n",
       "                                        ColumnTransformer(transformers=[(&#x27;functiontransformer&#x27;,\n",
       "                                                                         FunctionTransformer(func=&lt;function split_column at 0x000001D3C82BA280&gt;),\n",
       "                                                                         [&#x27;PassengerId&#x27;,\n",
       "                                                                          &#x27;HomePlanet&#x27;,\n",
       "                                                                          &#x27;CryoSleep&#x27;,\n",
       "                                                                          &#x27;Cabin&#x27;,\n",
       "                                                                          &#x27;Destination&#x27;,\n",
       "                                                                          &#x27;Age&#x27;,\n",
       "                                                                          &#x27;VIP&#x27;,\n",
       "                                                                          &#x27;RoomService&#x27;,\n",
       "                                                                          &#x27;FoodCourt&#x27;,\n",
       "                                                                          &#x27;ShoppingMall&#x27;,\n",
       "                                                                          &#x27;Spa&#x27;,\n",
       "                                                                          &#x27;VRDeck&#x27;,\n",
       "                                                                          &#x27;Name&#x27;])])),\n",
       "                                       (&#x27;preprocess&#x27;,\n",
       "                                        ColumnTransforme...\n",
       "                                                                                         (&#x27;one_hot_encoder&#x27;,\n",
       "                                                                                          OneHotEncoder(drop=&#x27;first&#x27;))]),\n",
       "                                                                         [&#x27;functiontransformer__HomePlanet&#x27;,\n",
       "                                                                          &#x27;functiontransformer__CryoSleep&#x27;,\n",
       "                                                                          &#x27;functiontransformer__Destination&#x27;,\n",
       "                                                                          &#x27;functiontransformer__VIP&#x27;,\n",
       "                                                                          &#x27;functiontransformer__Cabin&#x27;,\n",
       "                                                                          &#x27;functiontransformer__site&#x27;])],\n",
       "                                                          verbose_feature_names_out=False)),\n",
       "                                       (&#x27;lin_svm&#x27;, LinearSVC(max_iter=10000))]),\n",
       "             param_grid={&#x27;lin_svm__C&#x27;: [0.001, 1, 1000.0, 1000000.0]})</pre></div></div></div><div class=\"sk-parallel\"><div class=\"sk-parallel-item\"><div class=\"sk-item\"><div class=\"sk-label-container\"><div class=\"sk-label sk-toggleable\"><input class=\"sk-toggleable__control sk-hidden--visually\" id=\"sk-estimator-id-29\" type=\"checkbox\" ><label for=\"sk-estimator-id-29\" class=\"sk-toggleable__label sk-toggleable__label-arrow\">estimator: Pipeline</label><div class=\"sk-toggleable__content\"><pre>Pipeline(steps=[(&#x27;split_cabin&#x27;,\n",
       "                 ColumnTransformer(transformers=[(&#x27;functiontransformer&#x27;,\n",
       "                                                  FunctionTransformer(func=&lt;function split_column at 0x000001D3C82BA280&gt;),\n",
       "                                                  [&#x27;PassengerId&#x27;, &#x27;HomePlanet&#x27;,\n",
       "                                                   &#x27;CryoSleep&#x27;, &#x27;Cabin&#x27;,\n",
       "                                                   &#x27;Destination&#x27;, &#x27;Age&#x27;, &#x27;VIP&#x27;,\n",
       "                                                   &#x27;RoomService&#x27;, &#x27;FoodCourt&#x27;,\n",
       "                                                   &#x27;ShoppingMall&#x27;, &#x27;Spa&#x27;,\n",
       "                                                   &#x27;VRDeck&#x27;, &#x27;Name&#x27;])])),\n",
       "                (&#x27;preprocess&#x27;,\n",
       "                 ColumnTransformer(transformers=[(&#x27;numer...\n",
       "                                                                   SimpleImputer(strategy=&#x27;most_frequent&#x27;)),\n",
       "                                                                  (&#x27;one_hot_encoder&#x27;,\n",
       "                                                                   OneHotEncoder(drop=&#x27;first&#x27;))]),\n",
       "                                                  [&#x27;functiontransformer__HomePlanet&#x27;,\n",
       "                                                   &#x27;functiontransformer__CryoSleep&#x27;,\n",
       "                                                   &#x27;functiontransformer__Destination&#x27;,\n",
       "                                                   &#x27;functiontransformer__VIP&#x27;,\n",
       "                                                   &#x27;functiontransformer__Cabin&#x27;,\n",
       "                                                   &#x27;functiontransformer__site&#x27;])],\n",
       "                                   verbose_feature_names_out=False)),\n",
       "                (&#x27;lin_svm&#x27;, LinearSVC(max_iter=10000))])</pre></div></div></div><div class=\"sk-serial\"><div class=\"sk-item\"><div class=\"sk-serial\"><div class=\"sk-item sk-dashed-wrapped\"><div class=\"sk-label-container\"><div class=\"sk-label sk-toggleable\"><input class=\"sk-toggleable__control sk-hidden--visually\" id=\"sk-estimator-id-30\" type=\"checkbox\" ><label for=\"sk-estimator-id-30\" class=\"sk-toggleable__label sk-toggleable__label-arrow\">split_cabin: ColumnTransformer</label><div class=\"sk-toggleable__content\"><pre>ColumnTransformer(transformers=[(&#x27;functiontransformer&#x27;,\n",
       "                                 FunctionTransformer(func=&lt;function split_column at 0x000001D3C82BA280&gt;),\n",
       "                                 [&#x27;PassengerId&#x27;, &#x27;HomePlanet&#x27;, &#x27;CryoSleep&#x27;,\n",
       "                                  &#x27;Cabin&#x27;, &#x27;Destination&#x27;, &#x27;Age&#x27;, &#x27;VIP&#x27;,\n",
       "                                  &#x27;RoomService&#x27;, &#x27;FoodCourt&#x27;, &#x27;ShoppingMall&#x27;,\n",
       "                                  &#x27;Spa&#x27;, &#x27;VRDeck&#x27;, &#x27;Name&#x27;])])</pre></div></div></div><div class=\"sk-parallel\"><div class=\"sk-parallel-item\"><div class=\"sk-item\"><div class=\"sk-label-container\"><div class=\"sk-label sk-toggleable\"><input class=\"sk-toggleable__control sk-hidden--visually\" id=\"sk-estimator-id-31\" type=\"checkbox\" ><label for=\"sk-estimator-id-31\" class=\"sk-toggleable__label sk-toggleable__label-arrow\">functiontransformer</label><div class=\"sk-toggleable__content\"><pre>[&#x27;PassengerId&#x27;, &#x27;HomePlanet&#x27;, &#x27;CryoSleep&#x27;, &#x27;Cabin&#x27;, &#x27;Destination&#x27;, &#x27;Age&#x27;, &#x27;VIP&#x27;, &#x27;RoomService&#x27;, &#x27;FoodCourt&#x27;, &#x27;ShoppingMall&#x27;, &#x27;Spa&#x27;, &#x27;VRDeck&#x27;, &#x27;Name&#x27;]</pre></div></div></div><div class=\"sk-serial\"><div class=\"sk-item\"><div class=\"sk-estimator sk-toggleable\"><input class=\"sk-toggleable__control sk-hidden--visually\" id=\"sk-estimator-id-32\" type=\"checkbox\" ><label for=\"sk-estimator-id-32\" class=\"sk-toggleable__label sk-toggleable__label-arrow\">FunctionTransformer</label><div class=\"sk-toggleable__content\"><pre>FunctionTransformer(func=&lt;function split_column at 0x000001D3C82BA280&gt;)</pre></div></div></div></div></div></div></div></div><div class=\"sk-item sk-dashed-wrapped\"><div class=\"sk-label-container\"><div class=\"sk-label sk-toggleable\"><input class=\"sk-toggleable__control sk-hidden--visually\" id=\"sk-estimator-id-33\" type=\"checkbox\" ><label for=\"sk-estimator-id-33\" class=\"sk-toggleable__label sk-toggleable__label-arrow\">preprocess: ColumnTransformer</label><div class=\"sk-toggleable__content\"><pre>ColumnTransformer(transformers=[(&#x27;numeric&#x27;,\n",
       "                                 Pipeline(steps=[(&#x27;imputer&#x27;, SimpleImputer()),\n",
       "                                                 (&#x27;scaler&#x27;, MinMaxScaler())]),\n",
       "                                 [&#x27;functiontransformer__Age&#x27;,\n",
       "                                  &#x27;functiontransformer__RoomService&#x27;,\n",
       "                                  &#x27;functiontransformer__FoodCourt&#x27;,\n",
       "                                  &#x27;functiontransformer__ShoppingMall&#x27;,\n",
       "                                  &#x27;functiontransformer__Spa&#x27;,\n",
       "                                  &#x27;functiontransformer__VRDeck&#x27;,\n",
       "                                  &#x27;functiontransformer__num&#x27;]),\n",
       "                                (&#x27;categorical&#x27;,\n",
       "                                 Pipeline(steps=[(&#x27;imputer&#x27;,\n",
       "                                                  SimpleImputer(strategy=&#x27;most_frequent&#x27;)),\n",
       "                                                 (&#x27;one_hot_encoder&#x27;,\n",
       "                                                  OneHotEncoder(drop=&#x27;first&#x27;))]),\n",
       "                                 [&#x27;functiontransformer__HomePlanet&#x27;,\n",
       "                                  &#x27;functiontransformer__CryoSleep&#x27;,\n",
       "                                  &#x27;functiontransformer__Destination&#x27;,\n",
       "                                  &#x27;functiontransformer__VIP&#x27;,\n",
       "                                  &#x27;functiontransformer__Cabin&#x27;,\n",
       "                                  &#x27;functiontransformer__site&#x27;])],\n",
       "                  verbose_feature_names_out=False)</pre></div></div></div><div class=\"sk-parallel\"><div class=\"sk-parallel-item\"><div class=\"sk-item\"><div class=\"sk-label-container\"><div class=\"sk-label sk-toggleable\"><input class=\"sk-toggleable__control sk-hidden--visually\" id=\"sk-estimator-id-34\" type=\"checkbox\" ><label for=\"sk-estimator-id-34\" class=\"sk-toggleable__label sk-toggleable__label-arrow\">numeric</label><div class=\"sk-toggleable__content\"><pre>[&#x27;functiontransformer__Age&#x27;, &#x27;functiontransformer__RoomService&#x27;, &#x27;functiontransformer__FoodCourt&#x27;, &#x27;functiontransformer__ShoppingMall&#x27;, &#x27;functiontransformer__Spa&#x27;, &#x27;functiontransformer__VRDeck&#x27;, &#x27;functiontransformer__num&#x27;]</pre></div></div></div><div class=\"sk-serial\"><div class=\"sk-item\"><div class=\"sk-serial\"><div class=\"sk-item\"><div class=\"sk-estimator sk-toggleable\"><input class=\"sk-toggleable__control sk-hidden--visually\" id=\"sk-estimator-id-35\" type=\"checkbox\" ><label for=\"sk-estimator-id-35\" class=\"sk-toggleable__label sk-toggleable__label-arrow\">SimpleImputer</label><div class=\"sk-toggleable__content\"><pre>SimpleImputer()</pre></div></div></div><div class=\"sk-item\"><div class=\"sk-estimator sk-toggleable\"><input class=\"sk-toggleable__control sk-hidden--visually\" id=\"sk-estimator-id-36\" type=\"checkbox\" ><label for=\"sk-estimator-id-36\" class=\"sk-toggleable__label sk-toggleable__label-arrow\">MinMaxScaler</label><div class=\"sk-toggleable__content\"><pre>MinMaxScaler()</pre></div></div></div></div></div></div></div></div><div class=\"sk-parallel-item\"><div class=\"sk-item\"><div class=\"sk-label-container\"><div class=\"sk-label sk-toggleable\"><input class=\"sk-toggleable__control sk-hidden--visually\" id=\"sk-estimator-id-37\" type=\"checkbox\" ><label for=\"sk-estimator-id-37\" class=\"sk-toggleable__label sk-toggleable__label-arrow\">categorical</label><div class=\"sk-toggleable__content\"><pre>[&#x27;functiontransformer__HomePlanet&#x27;, &#x27;functiontransformer__CryoSleep&#x27;, &#x27;functiontransformer__Destination&#x27;, &#x27;functiontransformer__VIP&#x27;, &#x27;functiontransformer__Cabin&#x27;, &#x27;functiontransformer__site&#x27;]</pre></div></div></div><div class=\"sk-serial\"><div class=\"sk-item\"><div class=\"sk-serial\"><div class=\"sk-item\"><div class=\"sk-estimator sk-toggleable\"><input class=\"sk-toggleable__control sk-hidden--visually\" id=\"sk-estimator-id-38\" type=\"checkbox\" ><label for=\"sk-estimator-id-38\" class=\"sk-toggleable__label sk-toggleable__label-arrow\">SimpleImputer</label><div class=\"sk-toggleable__content\"><pre>SimpleImputer(strategy=&#x27;most_frequent&#x27;)</pre></div></div></div><div class=\"sk-item\"><div class=\"sk-estimator sk-toggleable\"><input class=\"sk-toggleable__control sk-hidden--visually\" id=\"sk-estimator-id-39\" type=\"checkbox\" ><label for=\"sk-estimator-id-39\" class=\"sk-toggleable__label sk-toggleable__label-arrow\">OneHotEncoder</label><div class=\"sk-toggleable__content\"><pre>OneHotEncoder(drop=&#x27;first&#x27;)</pre></div></div></div></div></div></div></div></div></div></div><div class=\"sk-item\"><div class=\"sk-estimator sk-toggleable\"><input class=\"sk-toggleable__control sk-hidden--visually\" id=\"sk-estimator-id-40\" type=\"checkbox\" ><label for=\"sk-estimator-id-40\" class=\"sk-toggleable__label sk-toggleable__label-arrow\">LinearSVC</label><div class=\"sk-toggleable__content\"><pre>LinearSVC(max_iter=10000)</pre></div></div></div></div></div></div></div></div></div></div></div></div>"
      ],
      "text/plain": [
       "GridSearchCV(estimator=Pipeline(steps=[('split_cabin',\n",
       "                                        ColumnTransformer(transformers=[('functiontransformer',\n",
       "                                                                         FunctionTransformer(func=<function split_column at 0x000001D3C82BA280>),\n",
       "                                                                         ['PassengerId',\n",
       "                                                                          'HomePlanet',\n",
       "                                                                          'CryoSleep',\n",
       "                                                                          'Cabin',\n",
       "                                                                          'Destination',\n",
       "                                                                          'Age',\n",
       "                                                                          'VIP',\n",
       "                                                                          'RoomService',\n",
       "                                                                          'FoodCourt',\n",
       "                                                                          'ShoppingMall',\n",
       "                                                                          'Spa',\n",
       "                                                                          'VRDeck',\n",
       "                                                                          'Name'])])),\n",
       "                                       ('preprocess',\n",
       "                                        ColumnTransforme...\n",
       "                                                                                         ('one_hot_encoder',\n",
       "                                                                                          OneHotEncoder(drop='first'))]),\n",
       "                                                                         ['functiontransformer__HomePlanet',\n",
       "                                                                          'functiontransformer__CryoSleep',\n",
       "                                                                          'functiontransformer__Destination',\n",
       "                                                                          'functiontransformer__VIP',\n",
       "                                                                          'functiontransformer__Cabin',\n",
       "                                                                          'functiontransformer__site'])],\n",
       "                                                          verbose_feature_names_out=False)),\n",
       "                                       ('lin_svm', LinearSVC(max_iter=10000))]),\n",
       "             param_grid={'lin_svm__C': [0.001, 1, 1000.0, 1000000.0]})"
      ]
     },
     "execution_count": 98,
     "metadata": {},
     "output_type": "execute_result"
    }
   ],
   "source": [
    "grid_search.fit(passenger_features_train, passenger_labels_train)"
   ]
  },
  {
   "cell_type": "code",
   "execution_count": 99,
   "id": "6ce18c45-f3dd-4b4c-bdaa-2b92b177fbab",
   "metadata": {},
   "outputs": [],
   "source": [
    "best_model = grid_search.best_estimator_"
   ]
  },
  {
   "cell_type": "code",
   "execution_count": 100,
   "id": "9ed6560f-d668-4273-948c-70d0d44f9048",
   "metadata": {},
   "outputs": [
    {
     "data": {
      "text/plain": [
       "{'lin_svm__C': 1}"
      ]
     },
     "execution_count": 100,
     "metadata": {},
     "output_type": "execute_result"
    }
   ],
   "source": [
    "grid_search.best_params_"
   ]
  },
  {
   "cell_type": "code",
   "execution_count": 101,
   "id": "0d4527ca-e87a-49e2-a74a-ab10d2c26add",
   "metadata": {},
   "outputs": [
    {
     "data": {
      "text/plain": [
       "0.7888989990900819"
      ]
     },
     "execution_count": 101,
     "metadata": {},
     "output_type": "execute_result"
    }
   ],
   "source": [
    "best_model.score(passenger_features_train, passenger_labels_train)"
   ]
  },
  {
   "cell_type": "code",
   "execution_count": 102,
   "id": "8437fdbe-608a-47d3-b988-9ddac77084f6",
   "metadata": {},
   "outputs": [
    {
     "data": {
      "text/plain": [
       "0.76"
      ]
     },
     "execution_count": 102,
     "metadata": {},
     "output_type": "execute_result"
    }
   ],
   "source": [
    "best_model.score(passenger_features_val, passenger_labels_val)"
   ]
  },
  {
   "cell_type": "code",
   "execution_count": 103,
   "id": "77e8e4e2-3cf3-49a3-a1ce-37b9f7cbc633",
   "metadata": {},
   "outputs": [],
   "source": [
    "spaceship_test_raw = pd.read_csv(\"data/test.csv\")"
   ]
  },
  {
   "cell_type": "code",
   "execution_count": 104,
   "id": "eaef2ca3-821b-406d-ae1b-1d1850db49df",
   "metadata": {},
   "outputs": [
    {
     "data": {
      "text/plain": [
       "(4277, 13)"
      ]
     },
     "execution_count": 104,
     "metadata": {},
     "output_type": "execute_result"
    }
   ],
   "source": [
    "spaceship_test_raw.shape"
   ]
  },
  {
   "cell_type": "code",
   "execution_count": 105,
   "id": "4670d738-f419-460d-aa3e-4dfb7e9eac3b",
   "metadata": {},
   "outputs": [],
   "source": [
    "predictions = best_model.predict(spaceship_test_raw)"
   ]
  },
  {
   "cell_type": "code",
   "execution_count": 106,
   "id": "ac402d65-09cd-4c19-b150-e3d18fa9cf13",
   "metadata": {},
   "outputs": [],
   "source": [
    "submission = pd.DataFrame({\"PassengerId\": spaceship_test_raw.PassengerId})\n",
    "submission[\"Transported\"] = predictions"
   ]
  },
  {
   "cell_type": "code",
   "execution_count": 107,
   "id": "b766cd19-b70c-4479-a83e-63fe1ee195db",
   "metadata": {},
   "outputs": [
    {
     "data": {
      "text/html": [
       "<div>\n",
       "<style scoped>\n",
       "    .dataframe tbody tr th:only-of-type {\n",
       "        vertical-align: middle;\n",
       "    }\n",
       "\n",
       "    .dataframe tbody tr th {\n",
       "        vertical-align: top;\n",
       "    }\n",
       "\n",
       "    .dataframe thead th {\n",
       "        text-align: right;\n",
       "    }\n",
       "</style>\n",
       "<table border=\"1\" class=\"dataframe\">\n",
       "  <thead>\n",
       "    <tr style=\"text-align: right;\">\n",
       "      <th></th>\n",
       "      <th>Transported</th>\n",
       "    </tr>\n",
       "    <tr>\n",
       "      <th>PassengerId</th>\n",
       "      <th></th>\n",
       "    </tr>\n",
       "  </thead>\n",
       "  <tbody>\n",
       "    <tr>\n",
       "      <th>0013_01</th>\n",
       "      <td>True</td>\n",
       "    </tr>\n",
       "    <tr>\n",
       "      <th>0018_01</th>\n",
       "      <td>False</td>\n",
       "    </tr>\n",
       "    <tr>\n",
       "      <th>0019_01</th>\n",
       "      <td>True</td>\n",
       "    </tr>\n",
       "    <tr>\n",
       "      <th>0021_01</th>\n",
       "      <td>True</td>\n",
       "    </tr>\n",
       "    <tr>\n",
       "      <th>0023_01</th>\n",
       "      <td>True</td>\n",
       "    </tr>\n",
       "    <tr>\n",
       "      <th>...</th>\n",
       "      <td>...</td>\n",
       "    </tr>\n",
       "    <tr>\n",
       "      <th>9266_02</th>\n",
       "      <td>True</td>\n",
       "    </tr>\n",
       "    <tr>\n",
       "      <th>9269_01</th>\n",
       "      <td>False</td>\n",
       "    </tr>\n",
       "    <tr>\n",
       "      <th>9271_01</th>\n",
       "      <td>True</td>\n",
       "    </tr>\n",
       "    <tr>\n",
       "      <th>9273_01</th>\n",
       "      <td>True</td>\n",
       "    </tr>\n",
       "    <tr>\n",
       "      <th>9277_01</th>\n",
       "      <td>True</td>\n",
       "    </tr>\n",
       "  </tbody>\n",
       "</table>\n",
       "<p>4277 rows × 1 columns</p>\n",
       "</div>"
      ],
      "text/plain": [
       "             Transported\n",
       "PassengerId             \n",
       "0013_01             True\n",
       "0018_01            False\n",
       "0019_01             True\n",
       "0021_01             True\n",
       "0023_01             True\n",
       "...                  ...\n",
       "9266_02             True\n",
       "9269_01            False\n",
       "9271_01             True\n",
       "9273_01             True\n",
       "9277_01             True\n",
       "\n",
       "[4277 rows x 1 columns]"
      ]
     },
     "execution_count": 107,
     "metadata": {},
     "output_type": "execute_result"
    }
   ],
   "source": [
    "submission = submission.set_index(\"PassengerId\")\n",
    "submission"
   ]
  },
  {
   "cell_type": "code",
   "execution_count": 108,
   "id": "c0661bb2-10d0-4349-807a-1b3efd30c61e",
   "metadata": {},
   "outputs": [],
   "source": [
    "submission.to_csv(\"pipe_1.csv\")"
   ]
  }
 ],
 "metadata": {
  "kernelspec": {
   "display_name": "Python 3 (ipykernel)",
   "language": "python",
   "name": "python3"
  },
  "language_info": {
   "codemirror_mode": {
    "name": "ipython",
    "version": 3
   },
   "file_extension": ".py",
   "mimetype": "text/x-python",
   "name": "python",
   "nbconvert_exporter": "python",
   "pygments_lexer": "ipython3",
   "version": "3.9.18"
  }
 },
 "nbformat": 4,
 "nbformat_minor": 5
}
